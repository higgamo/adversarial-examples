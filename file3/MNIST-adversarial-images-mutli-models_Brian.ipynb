{
 "cells": [
  {
   "cell_type": "markdown",
   "metadata": {},
   "source": [
    "# MNIST Adversarial Images with TensorFlow\n",
    "\n",
    "Create adversarial images to fool a MNIST classifier in TensorFlow"
   ]
  },
  {
   "cell_type": "markdown",
   "metadata": {},
   "source": [
    "## A Tech Challenge & Benchmark\n",
    "\n",
    "**Backstory**\n",
    "\n",
    "The original concept of this notebook was based on a Machine Learning (intern) candidate tech challenge from the Toronto startup [500px](https://500px.com).\n",
    "\n",
    "When I first saw the posting, it was at the beginning of my 3 month career pivot into Deep Learning and I thought this challenge would be a great way for me to benchmark my progress once I get started. You can read more about my career transition journey on [Medium](https://medium.com/towards-data-science/my-3-month-deep-learning-career-pivot-af94cd8d6a31) and a revised/updated version on [LinkedIn]().\n",
    "\n",
    "Although, I didn't follow through with providing the entire final output of the challenge, I'm quite satisfied that I've successfully completed it and consider it a demonstration of my current knowledge and capability.\n",
    "\n",
    "Prior to starting this challenge, I completed [Fast.ai: Practical Deep Learning - Part 1](http://course.fast.ai/). Read through my blog post to see my reading material - [Deep Learning Reading List](http://jasonicarter.github.io/deep-learning-reading-list).\n",
    "\n",
    "**The Challenge (summarized)**\n",
    "\n",
    "Create adversarial images to fool a MNIST classifier in TensorFlow.\n",
    "1. Learn how adversarial examples are created. For example, “Breaking Linear Classifiers on ImageNet” gives a good overview on the subject.\n",
    "2. Install Tensorflow\n",
    "3. Follow “Deep MNIST for Experts” tutorial to get the MNIST classifier running.\n",
    "4. Expand the code from the previous step to generate adversarial images. Specifically, pick 10 images of digit ‘2’ which are correctly classified as ‘2’ by the trained model and modify them so the network incorrectly classifies them as 6.\n",
    "5. Generate adversarial examples and save them as a single image containing a grid of 10 rows and 3 columns. The rows correspond to the selected examples of ‘2’. The columns are original image, delta and adversarial image. Provide link to the resulting image.\n",
    "6. Make your code clean and readable. Add comments where needed."
   ]
  },
  {
   "cell_type": "markdown",
   "metadata": {},
   "source": [
    "## Approach\n",
    "\n",
    "1. Read basic need-to-know about adversarial images\n",
    "2. Get data to be used throughout notebook\n",
    "3. Build a simple CNN (test model)\n",
    "4. Train it on MNIST \n",
    "5. Show model classification of 10 handwritten 2s\n",
    "6. Create adversarial image to classify 2s as 6s\n",
    "7. Test adversarial image with original model (in step 2)"
   ]
  },
  {
   "cell_type": "markdown",
   "metadata": {},
   "source": [
    "## Data"
   ]
  },
  {
   "cell_type": "code",
   "execution_count": 1,
   "metadata": {},
   "outputs": [],
   "source": [
    "# Dependencies for entire notebook here\n",
    "%matplotlib inline\n",
    "import matplotlib.pyplot as plt\n",
    "from mpl_toolkits.axes_grid1 import ImageGrid\n",
    "import numpy as np\n",
    "import tensorflow as tf\n",
    "from tensorflow.examples.tutorials.mnist import input_data"
   ]
  },
  {
   "cell_type": "code",
   "execution_count": 2,
   "metadata": {},
   "outputs": [
    {
     "name": "stdout",
     "output_type": "stream",
     "text": [
      "Extracting /home/higgamo/ten/fashionmnist/train-images-idx3-ubyte.gz\n",
      "Extracting /home/higgamo/ten/fashionmnist/train-labels-idx1-ubyte.gz\n",
      "Extracting /home/higgamo/ten/fashionmnist/t10k-images-idx3-ubyte.gz\n",
      "Extracting /home/higgamo/ten/fashionmnist/t10k-labels-idx1-ubyte.gz\n"
     ]
    }
   ],
   "source": [
    "mnist = input_data.read_data_sets('/home/higgamo/ten/fashionmnist', one_hot=True) \n"
   ]
  },
  {
   "cell_type": "code",
   "execution_count": 3,
   "metadata": {},
   "outputs": [
    {
     "name": "stdout",
     "output_type": "stream",
     "text": [
      "Training.images shape:  (55000, 784)\n",
      "Training.labels shape:  (55000, 10)\n",
      "Shape of an image:  (784,)\n",
      "Example label:  [0. 0. 0. 0. 1. 0. 0. 0. 0. 0.]\n"
     ]
    }
   ],
   "source": [
    "# Take a look the training data\n",
    "print('Training.images shape: ', mnist.train.images.shape)\n",
    "print('Training.labels shape: ', mnist.train.labels.shape)\n",
    "print('Shape of an image: ', mnist.train.images[0].shape)\n",
    "print('Example label: ', mnist.train.labels[0])"
   ]
  },
  {
   "cell_type": "code",
   "execution_count": 4,
   "metadata": {},
   "outputs": [
    {
     "data": {
      "image/png": "[encoded data removed]",
      "text/plain": [
       "<Figure size 360x360 with 18 Axes>"
      ]
     },
     "metadata": {},
     "output_type": "display_data"
    }
   ],
   "source": [
    "# Review a few images\n",
    "image_list = mnist.train.images[0:9]\n",
    "image_list_labels = mnist.train.labels[0:9]\n",
    "\n",
    "# https://matplotlib.org/mpl_toolkits/axes_grid/users/overview.html#imagegrid\n",
    "fig = plt.figure(1, (5., 5.))\n",
    "grid = ImageGrid(fig, 111,  # similar to subplot(111)\n",
    "                 nrows_ncols=(3, 3),  # creates 2x2 grid of axes\n",
    "                 axes_pad=0.3,  # pad between axes in inch.\n",
    "                 )\n",
    "\n",
    "for i in range(len(image_list)):\n",
    "    image = image_list[i].reshape(28,28)\n",
    "    grid[i].imshow(image)\n",
    "    grid[i].set_title('Label: {0}'.format(image_list_labels[i].argmax()))\n",
    "\n",
    "plt.show()"
   ]
  },
  {
   "cell_type": "markdown",
   "metadata": {},
   "source": [
    "## Benchmark CNN (for testing)"
   ]
  },
  {
   "cell_type": "markdown",
   "metadata": {},
   "source": [
    "Based on challenge requirements, building model using tensorflow low-level API"
   ]
  },
  {
   "cell_type": "code",
   "execution_count": 5,
   "metadata": {},
   "outputs": [
    {
     "data": {
      "text/plain": [
       "(10000, 10)"
      ]
     },
     "execution_count": 5,
     "metadata": {},
     "output_type": "execute_result"
    }
   ],
   "source": [
    "mnist.test.labels.shape"
   ]
  },
  {
   "cell_type": "code",
   "execution_count": 6,
   "metadata": {},
   "outputs": [],
   "source": [
    "# To run nicely in jupyter notebook\n",
    "sess = tf.InteractiveSession()"
   ]
  },
  {
   "cell_type": "code",
   "execution_count": 7,
   "metadata": {},
   "outputs": [],
   "source": [
    "# Functions for creating weights and biases\n",
    "# https://www.tensorflow.org/get_started/mnist/pros\n",
    "def weight_variable(shape):\n",
    "    initial = tf.truncated_normal(shape, stddev=0.1)\n",
    "    return tf.Variable(initial)\n",
    "\n",
    "def bias_variable(shape):\n",
    "    initial = tf.constant(0.1, shape=shape)\n",
    "    return tf.Variable(initial)\n",
    "\n",
    "# Functions for convolution and pooling functions\n",
    "def conv2d(x, W):\n",
    "    return tf.nn.conv2d(x, W, strides=[1,1,1,1], padding='SAME')\n",
    "\n",
    "def max_pooling_2x2(x):\n",
    "    return tf.nn.max_pool(x, ksize=[1,2,2,1], strides=[1,2,2,1], padding='SAME')"
   ]
  },
  {
   "cell_type": "code",
   "execution_count": 8,
   "metadata": {},
   "outputs": [],
   "source": [
    "# Create placeholders nodes for images and label inputs\n",
    "x = tf.placeholder(tf.float32, shape=[None, 784])\n",
    "y_ = tf.placeholder(tf.float32, shape=[None, 10])"
   ]
  },
  {
   "cell_type": "markdown",
   "metadata": {},
   "source": [
    "Benchmark model to be used for testing classification on real images with and without noise"
   ]
  },
  {
   "cell_type": "code",
   "execution_count": 9,
   "metadata": {},
   "outputs": [],
   "source": [
    "# y = (Wx +b)\n",
    "# https://www.tensorflow.org/get_started/mnist/pros\n",
    "\n",
    "# Input layer\n",
    "x_image = tf.reshape(x, [-1,28,28,1]) # mnist image comes in as 784 vector\n",
    "\n",
    "# Conv layer 1 - 32x5x5\n",
    "W_conv1 = weight_variable([5, 5, 1, 32])\n",
    "b_conv1 = bias_variable([32])\n",
    "x_conv1 = tf.nn.relu(conv2d(x_image, W_conv1) + b_conv1)\n",
    "x_pool1 = max_pooling_2x2(x_conv1)\n",
    "\n",
    "# Conv layer 2 - 64x5x5\n",
    "W_conv2 = weight_variable([5, 5, 32, 64])\n",
    "b_conv2 = bias_variable([64])\n",
    "x_conv2 = tf.nn.relu(conv2d(x_pool1, W_conv2) + b_conv2)\n",
    "x_pool2 = max_pooling_2x2(x_conv2)\n",
    "\n",
    "# Flatten - keras 'flatten'\n",
    "x_flat = tf.reshape(x_pool2, [-1, 7*7*64])\n",
    "\n",
    "# Dense fully connected layer\n",
    "W_fc1 = weight_variable([7 * 7 * 64, 1024]) # max pooling reduced image to 7x7\n",
    "b_fc1 = bias_variable([1024])\n",
    "x_fc1 = tf.nn.relu(tf.matmul(x_flat, W_fc1) + b_fc1)\n",
    "\n",
    "# Regularization with dropout\n",
    "keep_prob = tf.placeholder(tf.float32)\n",
    "x_fc1_drop = tf.nn.dropout(x_fc1, keep_prob)\n",
    "\n",
    "# Classification layer\n",
    "W_fc2 = weight_variable([1024, 10])\n",
    "b_fc2 = bias_variable([10])\n",
    "y_conv = tf.matmul(x_fc1_drop, W_fc2) + b_fc2"
   ]
  },
  {
   "cell_type": "code",
   "execution_count": 10,
   "metadata": {},
   "outputs": [
    {
     "name": "stdout",
     "output_type": "stream",
     "text": [
      "Tensor(\"add_3:0\", shape=(?, 10), dtype=float32)\n"
     ]
    }
   ],
   "source": [
    "# Probabilities - output from model (not the same as logits)\n",
    "y = tf.nn.softmax(y_conv)\n",
    "print(y_conv)"
   ]
  },
  {
   "cell_type": "code",
   "execution_count": 11,
   "metadata": {},
   "outputs": [
    {
     "name": "stdout",
     "output_type": "stream",
     "text": [
      "WARNING:tensorflow:From <ipython-input-11-dd05cd402889>:2: softmax_cross_entropy_with_logits (from tensorflow.python.ops.nn_ops) is deprecated and will be removed in a future version.\n",
      "Instructions for updating:\n",
      "\n",
      "Future major versions of TensorFlow will allow gradients to flow\n",
      "into the labels input on backprop by default.\n",
      "\n",
      "See tf.nn.softmax_cross_entropy_with_logits_v2.\n",
      "\n"
     ]
    }
   ],
   "source": [
    "# Loss and optimizer\n",
    "cross_entropy = tf.reduce_mean(tf.nn.softmax_cross_entropy_with_logits(labels=y_, logits=y_conv))\n",
    "train_step = tf.train.AdamOptimizer(1e-4).minimize(cross_entropy)"
   ]
  },
  {
   "cell_type": "code",
   "execution_count": 12,
   "metadata": {},
   "outputs": [],
   "source": [
    "# Setup to test accuracy of model\n",
    "correct_prediction = tf.equal(tf.argmax(y_conv,1), tf.argmax(y_,1))\n",
    "accuracy = tf.reduce_mean(tf.cast(correct_prediction, tf.float32))"
   ]
  },
  {
   "cell_type": "code",
   "execution_count": 13,
   "metadata": {},
   "outputs": [],
   "source": [
    "# Initilize all global variables\n",
    "sess.run(tf.global_variables_initializer())"
   ]
  },
  {
   "cell_type": "code",
   "execution_count": 14,
   "metadata": {},
   "outputs": [
    {
     "data": {
      "text/plain": [
       "(10000, 10)"
      ]
     },
     "execution_count": 14,
     "metadata": {},
     "output_type": "execute_result"
    }
   ],
   "source": [
    "mnist.test.labels.shape"
   ]
  },
  {
   "cell_type": "markdown",
   "metadata": {
    "scrolled": true
   },
   "source": [
    "```\n",
    "# Train model\n",
    "# Run once to get the model to a good confidence level\n",
    "for i in range(1000):\n",
    "    batch = mnist.train.next_batch(100)\n",
    "    if i%200 == 0:\n",
    "        train_accuracy = accuracy.eval(feed_dict={x:batch[0], y_: batch[1], keep_prob: 1.0})\n",
    "        print(\"step %d, training accuracy %g\"%(i, train_accuracy))\n",
    "\n",
    "    train_step.run(feed_dict={x: batch[0], y_: batch[1], keep_prob: 0.4})\n",
    "saver = tf.train.Saver()\n",
    "saver.save(sess, '/home/higgamo/Desktop/ads/ads', global_step=1000)\n",
    "```"
   ]
  },
  {
   "cell_type": "code",
   "execution_count": 15,
   "metadata": {
    "scrolled": true
   },
   "outputs": [],
   "source": [
    "def mult_model_runs(directory, num_runs = 1, steps = 100):\n",
    "    for j in range(num_runs):\n",
    "        sess.run(tf.global_variables_initializer())\n",
    "        for i in range(steps):\n",
    "            batch = mnist.train.next_batch(100)\n",
    "            if i%20 == 0:\n",
    "                train_accuracy = accuracy.eval(feed_dict={x:batch[0], y_: batch[1], keep_prob: 1.0})\n",
    "                print(\"step %d, training accuracy %g\"%(i, train_accuracy))\n",
    "\n",
    "            train_step.run(feed_dict={x: batch[0], y_: batch[1], keep_prob: 0.4})\n",
    "        saver = tf.train.Saver()\n",
    "        saver.save(sess, directory+'models' + str(j) +'/'+ 'ads' + str(j), global_step=steps)\n",
    "        prob = y.eval(feed_dict={x: image_list, keep_prob: 1.0})\n",
    "        #print(prob)\n",
    "        #prediction= tf.argmax(prob,1)\n",
    "        #best = sess.run([prediction],feed_dict={x: image_list, keep_prob: 1.0})\n",
    "        \n",
    "\n",
    "        #print(best)"
   ]
  },
  {
   "cell_type": "raw",
   "metadata": {},
   "source": [
    "```\n",
    "saver = tf.train.import_meta_graph('/home/higgamo/Desktop/ads/ads0-100.meta')\n",
    "saver.restore(sess,'/home/higgamo/Desktop/ads/ads0-100')\n",
    "print(batch)\n",
    "```"
   ]
  },
  {
   "cell_type": "markdown",
   "metadata": {},
   "source": [
    "# Notes to remember\n",
    "1. To load variable from a saved model make sure to index by ```:0``` after variable name.\n",
    "2. When compairing models, make sure to make ```keep_prob: 1.0```  this keeps drop out consistent for comparison. \n",
    "3. To run mulitple models, the tensorflow Session must be close after training each model **OR** the global variables must be reinitilize. ```sess.run(tf.global_variables_initializer())```\n",
    "**saving**\n",
    "3. Models must be saved in different folders. the checkpoint files cannot be name which means each model needs it own directory. ** if models are saved in the same folder, only the most recent model will be load**\n"
   ]
  },
  {
   "cell_type": "code",
   "execution_count": 16,
   "metadata": {},
   "outputs": [],
   "source": [
    "def load_models_get_accuracies(directory,batch, num_runs = 1,  steps = 100):\n",
    "    accuarcies_list = []\n",
    "    for i in range(num_runs): \n",
    "        with tf.Session() as sess:\n",
    "            #print(i)\n",
    "            new_saver = tf.train.import_meta_graph(directory+ 'models' + str(i) +'/' + 'ads' + str(i)+ '-' + str(steps) + '.meta')\n",
    "            new_saver.restore(sess, tf.train.latest_checkpoint(directory+ 'models' + str(i) +'/' ))\n",
    "            graph = tf.get_default_graph()\n",
    "\n",
    "            restored_y = graph.get_tensor_by_name(\"add_3:0\")\n",
    "            restored_softmax = graph.get_tensor_by_name(\"Softmax:0\")\n",
    "\n",
    "            tmp_preds = np.argmax(restored_y.eval(feed_dict={x: batch[0], y_: batch[1], keep_prob: 1}), axis=1)\n",
    "            tmp_truth = np.argmax(batch[1], axis=1)\n",
    "            print((tmp_preds == tmp_truth).sum())\n",
    "            accuarcies_list.append((tmp_preds == tmp_truth).sum())\n",
    "    return accuarcies_list"
   ]
  },
  {
   "cell_type": "code",
   "execution_count": 17,
   "metadata": {
    "scrolled": true
   },
   "outputs": [
    {
     "name": "stdout",
     "output_type": "stream",
     "text": [
      "step 0, training accuracy 0.08\n",
      "step 20, training accuracy 0.56\n",
      "step 40, training accuracy 0.7\n",
      "step 60, training accuracy 0.58\n",
      "step 80, training accuracy 0.67\n",
      "step 0, training accuracy 0.12\n",
      "step 20, training accuracy 0.42\n",
      "step 40, training accuracy 0.7\n",
      "step 60, training accuracy 0.74\n",
      "step 80, training accuracy 0.83\n",
      "step 0, training accuracy 0.09\n",
      "step 20, training accuracy 0.48\n",
      "step 40, training accuracy 0.68\n",
      "step 60, training accuracy 0.66\n",
      "step 80, training accuracy 0.76\n",
      "INFO:tensorflow:Restoring parameters from /home/higgamo/Desktop/ads/models0/ads0-100\n",
      "72\n",
      "INFO:tensorflow:Restoring parameters from /home/higgamo/Desktop/ads/models1/ads1-100\n",
      "71\n",
      "INFO:tensorflow:Restoring parameters from /home/higgamo/Desktop/ads/models2/ads2-100\n",
      "71\n"
     ]
    },
    {
     "data": {
      "text/plain": [
       "[72, 71, 71]"
      ]
     },
     "execution_count": 17,
     "metadata": {},
     "output_type": "execute_result"
    }
   ],
   "source": [
    "directory ='/home/higgamo/Desktop/ads/'\n",
    "model_instances = 3\n",
    "\n",
    "mult_model_runs(directory, num_runs=model_instances)\n",
    "next_batch = mnist.train.next_batch(100)\n",
    "load_models_get_accuracies(directory,next_batch, num_runs=model_instances)\n"
   ]
  },
  {
   "cell_type": "markdown",
   "metadata": {},
   "source": [
    "directory ='/home/higgamo/Desktop/ads/'\n",
    "model_instances = 3\n",
    "next_batch = mnist.train.next_batch(100)\n",
    "load_models_get_accuracies(directory,next_batch, num_runs=model_instances)"
   ]
  },
  {
   "cell_type": "code",
   "execution_count": null,
   "metadata": {},
   "outputs": [],
   "source": [
    "print(y.eval(feed_dict={x: image_list, keep_prob: 1.0}))"
   ]
  },
  {
   "cell_type": "code",
   "execution_count": null,
   "metadata": {},
   "outputs": [],
   "source": [
    "# Run trained model against test data\n",
    "print(\"test accuracy %g\"%accuracy.eval(feed_dict={x: mnist.test.images[0:500], \n",
    "                                                  y_: mnist.test.labels[0:500], keep_prob: 1.0}))\n"
   ]
  },
  {
   "cell_type": "code",
   "execution_count": null,
   "metadata": {},
   "outputs": [],
   "source": [
    "mnist.test.labels.shape"
   ]
  },
  {
   "cell_type": "code",
   "execution_count": null,
   "metadata": {},
   "outputs": [],
   "source": [
    "def plot_predictions(image_list, output_probs=False, adversarial=False):\n",
    "    '''\n",
    "    Evaluate images against trained model and plot images.\n",
    "    If adversarial == True, replace middle image title appropriately\n",
    "    Return probability list if output_probs == True\n",
    "    '''\n",
    "    prob = y.eval(feed_dict={x: image_list, keep_prob: 1.0})\n",
    "    \n",
    "    pred_list = np.zeros(len(image_list)).astype(int)\n",
    "    pct_list = np.zeros(len(image_list)).astype(int)\n",
    "    \n",
    "    # Setup image grid\n",
    "    import math\n",
    "    cols = 3\n",
    "    rows = math.ceil(image_list.shape[0]/cols)\n",
    "    fig = plt.figure(1, (12., 12.))\n",
    "    grid = ImageGrid(fig, 111,  # similar to subplot(111)\n",
    "                     nrows_ncols=(rows, cols),  # creates grid of axes\n",
    "                     axes_pad=0.5,  # pad between axes in inch.\n",
    "                     )\n",
    "    \n",
    "    # Get probs, images and populate grid\n",
    "    for i in range(len(prob)):\n",
    "        pred_list[i] = np.argmax(prob[i]) # for mnist index == classification\n",
    "        pct_list[i] = prob[i][pred_list[i]] * 100\n",
    "\n",
    "        image = image_list[i].reshape(28,28)\n",
    "        grid[i].imshow(image)\n",
    "        \n",
    "        grid[i].set_title('Label: {0} \\nCertainty: {1}%' \\\n",
    "                          .format(pred_list[i], \n",
    "                                  pct_list[i]))\n",
    "        \n",
    "        # Only use when plotting original, partial deriv and adversarial images\n",
    "        if (adversarial) & (i % 3 == 1): \n",
    "            grid[i].set_title(\"Adversarial \\nPartial Derivatives\")\n",
    "        \n",
    "    plt.show()\n",
    "    \n",
    "    return prob if output_probs else None"
   ]
  },
  {
   "cell_type": "code",
   "execution_count": null,
   "metadata": {},
   "outputs": [],
   "source": [
    "# Get 10 2s [:,2] from top 500 [0:500], nonzero returns tuple, get index[0], then first 10 [0:10]\n",
    "index_of_2s = np.nonzero(mnist.test.labels[0:500][:,0])[0][0:10]\n",
    "x_batch = mnist.test.images[index_of_2s]"
   ]
  },
  {
   "cell_type": "code",
   "execution_count": null,
   "metadata": {},
   "outputs": [],
   "source": [
    "plot_predictions(x_batch)"
   ]
  },
  {
   "cell_type": "markdown",
   "metadata": {},
   "source": [
    "All above 2s are correctly classified, although at varying degrees of certainty (mostly above 95%)"
   ]
  },
  {
   "cell_type": "markdown",
   "metadata": {},
   "source": [
    "## Adversarial Images"
   ]
  },
  {
   "cell_type": "markdown",
   "metadata": {},
   "source": [
    "Expand on benchmark model using low-level API. Create adversarial image of a 2 to be misclassified as a 6"
   ]
  },
  {
   "cell_type": "code",
   "execution_count": null,
   "metadata": {},
   "outputs": [],
   "source": [
    "# Mostly inspired by:\n",
    "# https://codewords.recurse.com/issues/five/why-do-neural-networks-think-a-panda-is-a-vulture\n",
    "def create_plot_adversarial_images(x_image, y_label, lr=0.1, n_steps=1, output_probs=False):\n",
    "    \n",
    "    original_image = x_image\n",
    "    probs_per_step = []\n",
    "    \n",
    "    # Calculate loss, derivative and create adversarial image\n",
    "    # https://www.tensorflow.org/versions/r0.11/api_docs/python/train/gradient_computation\n",
    "    loss =  tf.nn.softmax_cross_entropy_with_logits(labels=y_label, logits=y_conv)\n",
    "    deriv = tf.gradients(loss, x)\n",
    "    image_adv = tf.stop_gradient(x - tf.sign(deriv)*lr/n_steps)\n",
    "    image_adv = tf.clip_by_value(image_adv, 0, 1) # prevents -ve values creating 'real' image\n",
    "    \n",
    "    for _ in range(n_steps):\n",
    "        # Calculate derivative and adversarial image\n",
    "        dydx = sess.run(deriv, {x: x_image, keep_prob: 1.0}) # can't seem to access 'deriv' w/o running this\n",
    "        x_adv = sess.run(image_adv, {x: x_image, keep_prob: 1.0})\n",
    "        \n",
    "        # Create darray of 3 images - orig, noise/delta, adversarial\n",
    "        x_image = np.reshape(x_adv, (1, 784))\n",
    "        img_adv_list = original_image\n",
    "        img_adv_list = np.append(img_adv_list, dydx[0], axis=0)\n",
    "        img_adv_list = np.append(img_adv_list, x_image, axis=0)\n",
    "\n",
    "        # Print/plot images and return probabilities\n",
    "        probs = plot_predictions(img_adv_list, output_probs=output_probs, adversarial=True)\n",
    "        probs_per_step.append(probs) if output_probs else None\n",
    "        \n",
    "    \n",
    "    return probs_per_step"
   ]
  },
  {
   "cell_type": "code",
   "execution_count": null,
   "metadata": {},
   "outputs": [],
   "source": [
    "# Pick a random 2 image from first 1000 images \n",
    "# Create adversarial image and with target label 6\n",
    "index_of_2s = np.nonzero(mnist.test.labels[0:1000][:,0])[0]\n",
    "index_of_2s.shape\n",
    "rand_index = np.random.randint(0, len(index_of_2s))\n",
    "image_norm = mnist.test.images[index_of_2s[rand_index]]\n",
    "image_norm = np.reshape(image_norm, (1, 784))\n",
    "label_adv = [0,0,0,0,0,0,0,0,0,1] # one hot encoded, adversarial label 6"
   ]
  },
  {
   "cell_type": "code",
   "execution_count": null,
   "metadata": {
    "scrolled": true
   },
   "outputs": [],
   "source": [
    "# Plot adversarial images\n",
    "# Over each step, model certainty changes from 2 to 6\n",
    "create_plot_adversarial_images(image_norm, label_adv, lr=0.2, n_steps=20)"
   ]
  },
  {
   "cell_type": "code",
   "execution_count": null,
   "metadata": {},
   "outputs": [],
   "source": [
    "for i in range(9):\n",
    "    for j in range(5):\n",
    "        index_of_2s = np.nonzero(mnist.test.labels[0:1000][:,i])[0]\n",
    "        index_of_2s.shape\n",
    "        rand_index = np.random.randint(0, len(index_of_2s))\n",
    "        image_norm = mnist.test.images[index_of_2s[rand_index]]\n",
    "        image_norm = np.reshape(image_norm, (1, 784))\n",
    "        label_adv = [0,0,0,0,0,0,0,0,0,1] # one hot encoded, adversarial label 6\n",
    "        create_plot_adversarial_images(image_norm, label_adv, lr=0.2, n_steps=15)\n",
    "        "
   ]
  },
  {
   "cell_type": "code",
   "execution_count": null,
   "metadata": {},
   "outputs": [],
   "source": []
  },
  {
   "cell_type": "code",
   "execution_count": null,
   "metadata": {},
   "outputs": [],
   "source": [
    "sess.close()"
   ]
  }
 ],
 "metadata": {
  "kernelspec": {
   "display_name": "Python [conda env:ravi_project]",
   "language": "python",
   "name": "conda-env-ravi_project-py"
  },
  "language_info": {
   "codemirror_mode": {
    "name": "ipython",
    "version": 3
   },
   "file_extension": ".py",
   "mimetype": "text/x-python",
   "name": "python",
   "nbconvert_exporter": "python",
   "pygments_lexer": "ipython3",
   "version": "3.6.4"
  }
 },
 "nbformat": 4,
 "nbformat_minor": 2
}
